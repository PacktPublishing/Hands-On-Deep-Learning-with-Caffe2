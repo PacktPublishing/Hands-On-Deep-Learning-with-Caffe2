{
 "cells": [
  {
   "cell_type": "code",
   "execution_count": 1,
   "metadata": {},
   "outputs": [
    {
     "name": "stdout",
     "output_type": "stream",
     "text": [
      "[[[0.41781277 0.1071414 ]\n",
      "  [0.71337197 0.80591435]\n",
      "  [0.58444634 0.17056359]]\n",
      "\n",
      " [[0.00743729 0.25614715]\n",
      "  [0.12343792 0.74247775]\n",
      "  [0.91767065 0.6639654 ]]\n",
      "\n",
      " [[0.26168192 0.48135076]\n",
      "  [0.49295387 0.38500799]\n",
      "  [0.63562422 0.81739623]]\n",
      "\n",
      " [[0.34761944 0.43999491]\n",
      "  [0.47498028 0.64552865]\n",
      "  [0.21607792 0.10009186]]]\n",
      "(4, 3, 2)\n",
      "[[[0.41781277 0.1071414 ]\n",
      "  [0.71337197 0.80591435]\n",
      "  [0.58444634 0.17056359]]\n",
      "\n",
      " [[0.00743729 0.25614715]\n",
      "  [0.12343792 0.74247775]\n",
      "  [0.91767065 0.6639654 ]]\n",
      "\n",
      " [[0.26168192 0.48135076]\n",
      "  [0.49295387 0.38500799]\n",
      "  [0.63562422 0.81739623]]\n",
      "\n",
      " [[0.34761944 0.43999491]\n",
      "  [0.47498028 0.64552865]\n",
      "  [0.21607792 0.10009186]]]\n"
     ]
    }
   ],
   "source": [
    "from caffe2.python import workspace, model_helper\n",
    "import numpy as np\n",
    "# Create random tensor of three dimensions\n",
    "x = np.random.rand(4, 3, 2)\n",
    "print(x)\n",
    "print(x.shape)\n",
    "\n",
    "workspace.FeedBlob(\"my_x\", x)\n",
    "\n",
    "x2 = workspace.FetchBlob(\"my_x\")\n",
    "print(x2)\n"
   ]
  },
  {
   "cell_type": "code",
   "execution_count": 2,
   "metadata": {},
   "outputs": [
    {
     "data": {
      "text/plain": [
       "True"
      ]
     },
     "execution_count": 2,
     "metadata": {},
     "output_type": "execute_result"
    }
   ],
   "source": [
    "# Create the input data\n",
    "data = np.random.rand(16, 100).astype(np.float32)\n",
    "\n",
    "# Create labels for the data as integers [0, 9].\n",
    "label = (np.random.rand(16) * 10).astype(np.int32)\n",
    "\n",
    "workspace.FeedBlob(\"data\", data)\n",
    "workspace.FeedBlob(\"label\", label)\n"
   ]
  },
  {
   "cell_type": "code",
   "execution_count": null,
   "metadata": {},
   "outputs": [],
   "source": []
  }
 ],
 "metadata": {
  "kernelspec": {
   "display_name": "Python 2",
   "language": "python",
   "name": "python2"
  },
  "language_info": {
   "codemirror_mode": {
    "name": "ipython",
    "version": 2
   },
   "file_extension": ".py",
   "mimetype": "text/x-python",
   "name": "python",
   "nbconvert_exporter": "python",
   "pygments_lexer": "ipython2",
   "version": "2.7.12"
  }
 },
 "nbformat": 4,
 "nbformat_minor": 2
}
