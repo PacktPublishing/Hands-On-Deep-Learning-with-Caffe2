{
 "cells": [
  {
   "cell_type": "markdown",
   "metadata": {},
   "source": [
    "# Caffe2 Basic Elements\n",
    "In this tutorial, we will go through a set of basic elements for Caffe2."
   ]
  },
  {
   "cell_type": "code",
   "execution_count": 1,
   "metadata": {},
   "outputs": [],
   "source": [
    "from matplotlib import pyplot\n",
    "import numpy as np\n",
    "import time\n",
    "\n",
    "from caffe2.python import core, workspace\n",
    "from caffe2.proto import caffe2_pb2\n",
    "\n",
    "%matplotlib inline"
   ]
  },
  {
   "cell_type": "markdown",
   "metadata": {},
   "source": [
    "\n",
    "## Workspace\n",
    "First we will look into the workspace, where all the data reside. Workspace consists of all the blobs and data you created and stored in memory.\n",
    "\n",
    "One can feed blobs in the workspace using `FeedBlob()`"
   ]
  },
  {
   "cell_type": "code",
   "execution_count": 2,
   "metadata": {},
   "outputs": [
    {
     "name": "stdout",
     "output_type": "stream",
     "text": [
      "Numpy random array X:\n",
      "[[ 0.3728585  -0.38201433]\n",
      " [ 1.7013371  -0.3140982 ]]\n"
     ]
    },
    {
     "data": {
      "text/plain": [
       "True"
      ]
     },
     "execution_count": 2,
     "metadata": {},
     "output_type": "execute_result"
    }
   ],
   "source": [
    "X = np.random.randn(2,2).astype(np.float32)\n",
    "print(\"Numpy random array X:\\n{}\".format(X))\n",
    "workspace.FeedBlob(\"X\", X)"
   ]
  },
  {
   "cell_type": "markdown",
   "metadata": {},
   "source": [
    "`Blobs()` can be used to print out all existing blobs in the workspace."
   ]
  },
  {
   "cell_type": "markdown",
   "metadata": {},
   "source": [
    "## Operators"
   ]
  },
  {
   "cell_type": "markdown",
   "metadata": {},
   "source": [
    "Operators in Caffe2 are to define the functions like operations. \"Create an operator\" in Caffe2 python would only define the computational graph, At later time it would be executed in the C++ backend.\n",
    "\n",
    "One example is to define a computational graph Relu."
   ]
  },
  {
   "cell_type": "code",
   "execution_count": 3,
   "metadata": {},
   "outputs": [],
   "source": [
    "op = core.CreateOperator(\n",
    "    \"Relu\", #The type of operator that we want to run\n",
    "    [\"X\"],  #A list of input blobs\n",
    "    [\"Y\"]   #A list of output blobs\n",
    ")"
   ]
  },
  {
   "cell_type": "markdown",
   "metadata": {},
   "source": [
    "We can feed the input X to the workspace through `workspace.RunOperatorOnce(operator)`"
   ]
  },
  {
   "cell_type": "code",
   "execution_count": 4,
   "metadata": {},
   "outputs": [
    {
     "data": {
      "text/plain": [
       "True"
      ]
     },
     "execution_count": 4,
     "metadata": {},
     "output_type": "execute_result"
    }
   ],
   "source": [
    "workspace.FeedBlob(\"X\", np.random.randn(2, 2).astype(np.float32))\n",
    "workspace.RunOperatorOnce(op)"
   ]
  },
  {
   "cell_type": "markdown",
   "metadata": {},
   "source": [
    "Here we check if the operator is excuted and what would be the results on X, Y, and the expected value of Y."
   ]
  },
  {
   "cell_type": "code",
   "execution_count": 5,
   "metadata": {},
   "outputs": [
    {
     "name": "stdout",
     "output_type": "stream",
     "text": [
      "Current blobs in the workspace: [u'X', u'Y']\n",
      "\n",
      "X:\n",
      "[[-1.9222305  -0.26815236]\n",
      " [ 0.3026588   1.6451247 ]]\n",
      "\n",
      "Y:\n",
      "[[0.        0.       ]\n",
      " [0.3026588 1.6451247]]\n",
      "\n",
      "Expected:\n",
      "[[0.        0.       ]\n",
      " [0.3026588 1.6451247]]\n",
      "\n"
     ]
    }
   ],
   "source": [
    "print(\"Current blobs in the workspace: {}\\n\".format(workspace.Blobs()))\n",
    "print(\"X:\\n{}\\n\".format(workspace.FetchBlob(\"X\")))\n",
    "print(\"Y:\\n{}\\n\".format(workspace.FetchBlob(\"Y\")))\n",
    "print(\"Expected:\\n{}\\n\".format(np.maximum(workspace.FetchBlob(\"X\"), 0)))"
   ]
  },
  {
   "cell_type": "markdown",
   "metadata": {},
   "source": [
    "Operators can also take optional arguments, which are specified as key-value pairs. One example is to feed a tensor and fills it with Gaussian random variables with zero mean and 1 standard deviation."
   ]
  },
  {
   "cell_type": "code",
   "execution_count": 10,
   "metadata": {},
   "outputs": [
    {
     "name": "stdout",
     "output_type": "stream",
     "text": [
      "Content of op:\n",
      "\n",
      "output: \"Z\"\n",
      "name: \"\"\n",
      "type: \"GaussianFill\"\n",
      "arg {\n",
      "  name: \"std\"\n",
      "  f: 1.0\n",
      "}\n",
      "arg {\n",
      "  name: \"shape\"\n",
      "  ints: 100\n",
      "  ints: 100\n",
      "}\n",
      "arg {\n",
      "  name: \"mean\"\n",
      "  f: 0.0\n",
      "}\n",
      "\n"
     ]
    }
   ],
   "source": [
    "op=core.CreateOperator(\n",
    "    'GaussianFill',\n",
    "    [],\n",
    "    [\"Z\"],\n",
    "    shape=[100,100],\n",
    "    mean=0.0,\n",
    "    std=1.0,\n",
    ")\n",
    "print (\"Content of op:\\n\")\n",
    "print (str(op))"
   ]
  },
  {
   "cell_type": "markdown",
   "metadata": {},
   "source": [
    "We can then feed data to the op through `workspace.RunOperatorOnce(op)`."
   ]
  },
  {
   "cell_type": "code",
   "execution_count": 11,
   "metadata": {},
   "outputs": [
    {
     "data": {
      "text/plain": [
       "Text(0.5,1,u'Distribution of Z')"
      ]
     },
     "execution_count": 11,
     "metadata": {},
     "output_type": "execute_result"
    },
    {
     "data": {
      "image/png": "[encoded data removed]",
      "text/plain": [
       "<matplotlib.figure.Figure at 0x110a34c90>"
      ]
     },
     "metadata": {},
     "output_type": "display_data"
    }
   ],
   "source": [
    "workspace.RunOperatorOnce(op)\n",
    "temp = workspace.FetchBlob(\"Z\")\n",
    "pyplot.hist(temp.flatten(),bins=50)\n",
    "pyplot.title(\"Distribution of Z\")"
   ]
  },
  {
   "cell_type": "markdown",
   "metadata": {},
   "source": [
    "## Nets"
   ]
  },
  {
   "cell_type": "markdown",
   "metadata": {},
   "source": [
    "Nets are computational graphs. A Net is composed of multiple operators.\n",
    "\n",
    "We can create a computational graph like we presented in the beginning of the section.\n",
    "```\n",
    "X = np.random.randn(2,3)\n",
    "W = np.random.randn(5,3)\n",
    "b = np.ones(5)\n",
    "Y = X * W^T + b\n",
    "```"
   ]
  },
  {
   "cell_type": "code",
   "execution_count": 5,
   "metadata": {},
   "outputs": [
    {
     "name": "stdout",
     "output_type": "stream",
     "text": [
      "Current network proto:\n",
      "\n",
      "name: \"first computational graph\"\n",
      "\n"
     ]
    }
   ],
   "source": [
    "net = core.Net(\"first computational graph\")\n",
    "print(\"Current network proto:\\n\\n{}\".format(net.Proto()))"
   ]
  },
  {
   "cell_type": "code",
   "execution_count": 6,
   "metadata": {},
   "outputs": [
    {
     "name": "stdout",
     "output_type": "stream",
     "text": [
      "New network proto:\n",
      "\n",
      "name: \"first computational graph\"\n",
      "op {\n",
      "  output: \"X\"\n",
      "  name: \"\"\n",
      "  type: \"GaussianFill\"\n",
      "  arg {\n",
      "    name: \"std\"\n",
      "    f: 1.0\n",
      "  }\n",
      "  arg {\n",
      "    name: \"run_once\"\n",
      "    i: 0\n",
      "  }\n",
      "  arg {\n",
      "    name: \"shape\"\n",
      "    ints: 2\n",
      "    ints: 3\n",
      "  }\n",
      "  arg {\n",
      "    name: \"mean\"\n",
      "    f: 0.0\n",
      "  }\n",
      "}\n",
      "\n"
     ]
    }
   ],
   "source": [
    "X = net.GaussianFill([], [\"X\"], mean=0.0, std=1.0, shape=[2, 3], run_once=0)\n",
    "print(\"New network proto:\\n\\n{}\".format(net.Proto()))"
   ]
  },
  {
   "cell_type": "code",
   "execution_count": 7,
   "metadata": {},
   "outputs": [
    {
     "name": "stdout",
     "output_type": "stream",
     "text": [
      "Type of X is: <class 'caffe2.python.core.BlobReference'>\n",
      "The blob name is: X\n"
     ]
    }
   ],
   "source": [
    "print(\"Type of X is: {}\".format(type(X)))\n",
    "print(\"The blob name is: {}\".format(str(X)))"
   ]
  },
  {
   "cell_type": "code",
   "execution_count": 8,
   "metadata": {},
   "outputs": [],
   "source": [
    "W = net.GaussianFill([], [\"W\"], mean=0.0, std=1.0, shape=[5, 3], run_once=0)\n",
    "b = net.ConstantFill([], [\"b\"], shape=[5,], value=1.0, run_once=0)\n",
    "Y = X.FC([W, b], [\"Y\"])"
   ]
  },
  {
   "cell_type": "code",
   "execution_count": 9,
   "metadata": {},
   "outputs": [
    {
     "name": "stdout",
     "output_type": "stream",
     "text": [
      "Current network proto:\n",
      "\n",
      "name: \"first computational graph\"\n",
      "op {\n",
      "  output: \"X\"\n",
      "  name: \"\"\n",
      "  type: \"GaussianFill\"\n",
      "  arg {\n",
      "    name: \"std\"\n",
      "    f: 1.0\n",
      "  }\n",
      "  arg {\n",
      "    name: \"run_once\"\n",
      "    i: 0\n",
      "  }\n",
      "  arg {\n",
      "    name: \"shape\"\n",
      "    ints: 2\n",
      "    ints: 3\n",
      "  }\n",
      "  arg {\n",
      "    name: \"mean\"\n",
      "    f: 0.0\n",
      "  }\n",
      "}\n",
      "op {\n",
      "  output: \"W\"\n",
      "  name: \"\"\n",
      "  type: \"GaussianFill\"\n",
      "  arg {\n",
      "    name: \"std\"\n",
      "    f: 1.0\n",
      "  }\n",
      "  arg {\n",
      "    name: \"run_once\"\n",
      "    i: 0\n",
      "  }\n",
      "  arg {\n",
      "    name: \"shape\"\n",
      "    ints: 5\n",
      "    ints: 3\n",
      "  }\n",
      "  arg {\n",
      "    name: \"mean\"\n",
      "    f: 0.0\n",
      "  }\n",
      "}\n",
      "op {\n",
      "  output: \"b\"\n",
      "  name: \"\"\n",
      "  type: \"ConstantFill\"\n",
      "  arg {\n",
      "    name: \"run_once\"\n",
      "    i: 0\n",
      "  }\n",
      "  arg {\n",
      "    name: \"shape\"\n",
      "    ints: 5\n",
      "  }\n",
      "  arg {\n",
      "    name: \"value\"\n",
      "    f: 1.0\n",
      "  }\n",
      "}\n",
      "op {\n",
      "  input: \"X\"\n",
      "  input: \"W\"\n",
      "  input: \"b\"\n",
      "  output: \"Y\"\n",
      "  name: \"\"\n",
      "  type: \"FC\"\n",
      "}\n",
      "\n"
     ]
    }
   ],
   "source": [
    "print(\"Current network proto:\\n\\n{}\".format(net.Proto()))"
   ]
  },
  {
   "cell_type": "code",
   "execution_count": 10,
   "metadata": {},
   "outputs": [
    {
     "data": {
      "image/png": "[encoded data removed]",
      "text/plain": [
       "<IPython.core.display.Image object>"
      ]
     },
     "execution_count": 10,
     "metadata": {
      "image/png": {
       "width": 800
      }
     },
     "output_type": "execute_result"
    }
   ],
   "source": [
    "from caffe2.python import net_drawer\n",
    "from IPython import display\n",
    "graph = net_drawer.GetPydotGraph(net, rankdir=\"LR\")\n",
    "display.Image(graph.create_png(), width=800)"
   ]
  },
  {
   "cell_type": "markdown",
   "metadata": {},
   "source": [
    "There are two ways to run a Net in Caffe2 Python. \n",
    "\n",
    "1. Using `workspace.RunNetOnce()` to run and immediately destructs the network. This is slow but simple.\n",
    "2. a) Call `workspace.CreateNet()` to create a C++ net object owned by the workspace; and then b) use `workspace.RunNet()` by passing the name of the network to it. This method is fast but a bit more complicated."
   ]
  },
  {
   "cell_type": "code",
   "execution_count": 11,
   "metadata": {},
   "outputs": [
    {
     "name": "stdout",
     "output_type": "stream",
     "text": [
      "Current blobs in the workspace: []\n",
      "Blobs in the workspace after execution: [u'W', u'X', u'Y', u'b']\n",
      "W:\n",
      "[[-0.57749766  0.6867224  -1.9023067 ]\n",
      " [-0.10988712 -1.8403648   0.37995943]\n",
      " [ 0.36243936 -0.12583214 -0.22221568]\n",
      " [ 0.73073703  1.7471557   1.6222508 ]\n",
      " [-1.3405846   0.8067382  -2.036345  ]]\n",
      "X:\n",
      "[[-1.2473389  -0.71878403 -0.67345744]\n",
      " [-0.41355348  0.66690105  0.0844199 ]]\n",
      "Y:\n",
      "[[ 2.5078528   2.2040048   0.78801423 -2.2598212   3.4636846 ]\n",
      " [ 1.5362096  -0.1498208   0.747435    1.9999313   1.9205099 ]]\n",
      "b:\n",
      "[1. 1. 1. 1. 1.]\n"
     ]
    }
   ],
   "source": [
    "# First way to use workspace.RunNetOnce() to run a Net\n",
    "workspace.ResetWorkspace()\n",
    "print(\"Current blobs in the workspace: {}\".format(workspace.Blobs()))\n",
    "workspace.RunNetOnce(net)\n",
    "print(\"Blobs in the workspace after execution: {}\".format(workspace.Blobs()))\n",
    "# Let's dump the contents of the blobs\n",
    "for name in workspace.Blobs():\n",
    "    print(\"{}:\\n{}\".format(name, workspace.FetchBlob(name)))"
   ]
  },
  {
   "cell_type": "code",
   "execution_count": 12,
   "metadata": {},
   "outputs": [
    {
     "name": "stdout",
     "output_type": "stream",
     "text": [
      "Current blobs in the workspace: []\n",
      "Blobs in the workspace after execution: [u'W', u'X', u'Y', u'b']\n",
      "W:\n",
      "[[-0.785413   -0.6661649   0.08374718]\n",
      " [-0.42967272  0.841478   -0.33365878]\n",
      " [-1.4906715  -0.8878296   2.0791721 ]\n",
      " [-0.9133536  -0.3068954   0.21087232]\n",
      " [ 0.5454768   1.6547596   1.1038861 ]]\n",
      "X:\n",
      "[[-0.06542487  1.1953484   0.40998346]\n",
      " [-0.07352213  1.3930234  -0.5240351 ]]\n",
      "Y:\n",
      "[[ 0.28942138  1.8971761   0.8886875   0.7793633   3.3949015 ]\n",
      " [ 0.08587551  2.3786378  -1.2167292   0.52913475  2.6865392 ]]\n",
      "b:\n",
      "[1. 1. 1. 1. 1.]\n"
     ]
    }
   ],
   "source": [
    "#a) Call `workspace.CreateNet()` to create a C++ net object owned by the workspace; \n",
    "#and then b) use `workspace.RunNet()` by passing the name of the network to it.\n",
    "workspace.ResetWorkspace()\n",
    "print(\"Current blobs in the workspace: {}\".format(workspace.Blobs()))\n",
    "workspace.CreateNet(net)\n",
    "workspace.RunNet(net.Proto().name)\n",
    "print(\"Blobs in the workspace after execution: {}\".format(workspace.Blobs()))\n",
    "for name in workspace.Blobs():\n",
    "    print(\"{}:\\n{}\".format(name, workspace.FetchBlob(name)))"
   ]
  },
  {
   "cell_type": "code",
   "execution_count": 13,
   "metadata": {},
   "outputs": [
    {
     "name": "stdout",
     "output_type": "stream",
     "text": [
      "Run time per RunNetOnce: 9.42590236664e-05\n",
      "Run time per RunNet: 7.55906105042e-06\n"
     ]
    }
   ],
   "source": [
    "start = time.time()\n",
    "for i in range(1000):\n",
    "    workspace.RunNetOnce(net)\n",
    "end = time.time()\n",
    "print('Run time per RunNetOnce: {}'.format((end - start) / 1000))\n",
    "\n",
    "start = time.time()\n",
    "for i in range(1000):\n",
    "    workspace.RunNet(net.Proto().name)\n",
    "end = time.time()\n",
    "print('Run time per RunNet: {}'.format((end - start) / 1000))"
   ]
  },
  {
   "cell_type": "markdown",
   "metadata": {},
   "source": [
    "Note: this tutorial is created based on the `https://github.com/caffe2/caffe2/tree/master/caffe2/python/tutorials`. For more detailed explaination, please find more information from `https://caffe2.ai/docs/`. "
   ]
  }
 ],
 "metadata": {
  "kernelspec": {
   "display_name": "Python 2",
   "language": "python",
   "name": "python2"
  },
  "language_info": {
   "codemirror_mode": {
    "name": "ipython",
    "version": 2
   },
   "file_extension": ".py",
   "mimetype": "text/x-python",
   "name": "python",
   "nbconvert_exporter": "python",
   "pygments_lexer": "ipython2",
   "version": "2.7.12"
  }
 },
 "nbformat": 4,
 "nbformat_minor": 2
}
